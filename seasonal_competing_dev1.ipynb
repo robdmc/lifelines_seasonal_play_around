{
 "cells": [
  {
   "cell_type": "code",
   "execution_count": 8,
   "metadata": {},
   "outputs": [],
   "source": [
    "from lifelines.fitters import ParametericUnivariateFitter\n",
    "from datetime import timedelta\n",
    "from dateutil.parser import parse\n",
    "import pandas as pd\n",
    "import numpy\n",
    "from autograd import numpy as np\n",
    "from autograd import grad\n",
    "from scipy.stats import expon, bernoulli\n",
    "import datetime\n",
    "from dateutil.relativedelta import relativedelta\n",
    "import itertools\n",
    "import sys\n",
    "from autograd import numpy as anp\n",
    "from autograd import value_and_grad, grad\n",
    "from autograd import elementwise_grad as egrad\n",
    "from scipy.optimize import minimize\n"
   ]
  },
  {
   "cell_type": "code",
   "execution_count": 24,
   "metadata": {},
   "outputs": [],
   "source": [
    "offset = pd.offsets.QuarterBegin(startingMonth=1)"
   ]
  },
  {
   "cell_type": "code",
   "execution_count": 34,
   "metadata": {},
   "outputs": [
    {
     "name": "stdout",
     "output_type": "stream",
     "text": [
      "2019-01-01 2019-01-01 2019-04-01\n",
      "2019-01-02 2019-01-01 2019-04-01\n",
      "2019-01-03 2019-01-01 2019-04-01\n",
      "2019-01-04 2019-01-01 2019-04-01\n",
      "2019-01-05 2019-01-01 2019-04-01\n",
      "2019-01-06 2019-01-01 2019-04-01\n",
      "2019-01-07 2019-01-01 2019-04-01\n",
      "2019-01-08 2019-01-01 2019-04-01\n",
      "2019-01-09 2019-01-01 2019-04-01\n",
      "2019-01-10 2019-01-01 2019-04-01\n",
      "2019-01-11 2019-01-01 2019-04-01\n",
      "2019-01-12 2019-01-01 2019-04-01\n",
      "2019-01-13 2019-01-01 2019-04-01\n",
      "2019-01-14 2019-01-01 2019-04-01\n",
      "2019-01-15 2019-01-01 2019-04-01\n",
      "2019-01-16 2019-01-01 2019-04-01\n",
      "2019-01-17 2019-01-01 2019-04-01\n",
      "2019-01-18 2019-01-01 2019-04-01\n",
      "2019-01-19 2019-01-01 2019-04-01\n",
      "2019-01-20 2019-01-01 2019-04-01\n",
      "2019-01-21 2019-01-01 2019-04-01\n",
      "2019-01-22 2019-01-01 2019-04-01\n",
      "2019-01-23 2019-01-01 2019-04-01\n",
      "2019-01-24 2019-01-01 2019-04-01\n",
      "2019-01-25 2019-01-01 2019-04-01\n",
      "2019-01-26 2019-01-01 2019-04-01\n",
      "2019-01-27 2019-01-01 2019-04-01\n",
      "2019-01-28 2019-01-01 2019-04-01\n",
      "2019-01-29 2019-01-01 2019-04-01\n",
      "2019-01-30 2019-01-01 2019-04-01\n",
      "2019-01-31 2019-01-01 2019-04-01\n",
      "2019-02-01 2019-01-01 2019-04-01\n",
      "2019-02-02 2019-01-01 2019-04-01\n",
      "2019-02-03 2019-01-01 2019-04-01\n",
      "2019-02-04 2019-01-01 2019-04-01\n",
      "2019-02-05 2019-01-01 2019-04-01\n",
      "2019-02-06 2019-01-01 2019-04-01\n",
      "2019-02-07 2019-01-01 2019-04-01\n",
      "2019-02-08 2019-01-01 2019-04-01\n",
      "2019-02-09 2019-01-01 2019-04-01\n",
      "2019-02-10 2019-01-01 2019-04-01\n",
      "2019-02-11 2019-01-01 2019-04-01\n",
      "2019-02-12 2019-01-01 2019-04-01\n",
      "2019-02-13 2019-01-01 2019-04-01\n",
      "2019-02-14 2019-01-01 2019-04-01\n",
      "2019-02-15 2019-01-01 2019-04-01\n",
      "2019-02-16 2019-01-01 2019-04-01\n",
      "2019-02-17 2019-01-01 2019-04-01\n",
      "2019-02-18 2019-01-01 2019-04-01\n",
      "2019-02-19 2019-01-01 2019-04-01\n",
      "2019-02-20 2019-01-01 2019-04-01\n",
      "2019-02-21 2019-01-01 2019-04-01\n",
      "2019-02-22 2019-01-01 2019-04-01\n",
      "2019-02-23 2019-01-01 2019-04-01\n",
      "2019-02-24 2019-01-01 2019-04-01\n",
      "2019-02-25 2019-01-01 2019-04-01\n",
      "2019-02-26 2019-01-01 2019-04-01\n",
      "2019-02-27 2019-01-01 2019-04-01\n",
      "2019-02-28 2019-01-01 2019-04-01\n",
      "2019-03-01 2019-01-01 2019-04-01\n",
      "2019-03-02 2019-01-01 2019-04-01\n",
      "2019-03-03 2019-01-01 2019-04-01\n",
      "2019-03-04 2019-01-01 2019-04-01\n",
      "2019-03-05 2019-01-01 2019-04-01\n",
      "2019-03-06 2019-01-01 2019-04-01\n",
      "2019-03-07 2019-01-01 2019-04-01\n",
      "2019-03-08 2019-01-01 2019-04-01\n",
      "2019-03-09 2019-01-01 2019-04-01\n",
      "2019-03-10 2019-01-01 2019-04-01\n",
      "2019-03-11 2019-01-01 2019-04-01\n",
      "2019-03-12 2019-01-01 2019-04-01\n",
      "2019-03-13 2019-01-01 2019-04-01\n",
      "2019-03-14 2019-01-01 2019-04-01\n",
      "2019-03-15 2019-01-01 2019-04-01\n",
      "2019-03-16 2019-01-01 2019-04-01\n",
      "2019-03-17 2019-01-01 2019-04-01\n",
      "2019-03-18 2019-01-01 2019-04-01\n",
      "2019-03-19 2019-01-01 2019-04-01\n",
      "2019-03-20 2019-01-01 2019-04-01\n",
      "2019-03-21 2019-01-01 2019-04-01\n",
      "2019-03-22 2019-01-01 2019-04-01\n",
      "2019-03-23 2019-01-01 2019-04-01\n",
      "2019-03-24 2019-01-01 2019-04-01\n",
      "2019-03-25 2019-01-01 2019-04-01\n",
      "2019-03-26 2019-01-01 2019-04-01\n",
      "2019-03-27 2019-01-01 2019-04-01\n",
      "2019-03-28 2019-01-01 2019-04-01\n",
      "2019-03-29 2019-01-01 2019-04-01\n",
      "2019-03-30 2019-01-01 2019-04-01\n",
      "2019-03-31 2019-01-01 2019-04-01\n",
      "2019-04-01 2019-04-01 2019-07-01\n",
      "2019-04-02 2019-04-01 2019-07-01\n",
      "2019-04-03 2019-04-01 2019-07-01\n",
      "2019-04-04 2019-04-01 2019-07-01\n",
      "2019-04-05 2019-04-01 2019-07-01\n",
      "2019-04-06 2019-04-01 2019-07-01\n",
      "2019-04-07 2019-04-01 2019-07-01\n",
      "2019-04-08 2019-04-01 2019-07-01\n",
      "2019-04-09 2019-04-01 2019-07-01\n",
      "2019-04-10 2019-04-01 2019-07-01\n",
      "2019-04-11 2019-04-01 2019-07-01\n",
      "2019-04-12 2019-04-01 2019-07-01\n",
      "2019-04-13 2019-04-01 2019-07-01\n",
      "2019-04-14 2019-04-01 2019-07-01\n",
      "2019-04-15 2019-04-01 2019-07-01\n",
      "2019-04-16 2019-04-01 2019-07-01\n",
      "2019-04-17 2019-04-01 2019-07-01\n",
      "2019-04-18 2019-04-01 2019-07-01\n",
      "2019-04-19 2019-04-01 2019-07-01\n",
      "2019-04-20 2019-04-01 2019-07-01\n",
      "2019-04-21 2019-04-01 2019-07-01\n",
      "2019-04-22 2019-04-01 2019-07-01\n",
      "2019-04-23 2019-04-01 2019-07-01\n",
      "2019-04-24 2019-04-01 2019-07-01\n",
      "2019-04-25 2019-04-01 2019-07-01\n",
      "2019-04-26 2019-04-01 2019-07-01\n",
      "2019-04-27 2019-04-01 2019-07-01\n",
      "2019-04-28 2019-04-01 2019-07-01\n",
      "2019-04-29 2019-04-01 2019-07-01\n",
      "2019-04-30 2019-04-01 2019-07-01\n",
      "2019-05-01 2019-04-01 2019-07-01\n",
      "2019-05-02 2019-04-01 2019-07-01\n",
      "2019-05-03 2019-04-01 2019-07-01\n",
      "2019-05-04 2019-04-01 2019-07-01\n",
      "2019-05-05 2019-04-01 2019-07-01\n",
      "2019-05-06 2019-04-01 2019-07-01\n",
      "2019-05-07 2019-04-01 2019-07-01\n",
      "2019-05-08 2019-04-01 2019-07-01\n",
      "2019-05-09 2019-04-01 2019-07-01\n",
      "2019-05-10 2019-04-01 2019-07-01\n",
      "2019-05-11 2019-04-01 2019-07-01\n",
      "2019-05-12 2019-04-01 2019-07-01\n",
      "2019-05-13 2019-04-01 2019-07-01\n",
      "2019-05-14 2019-04-01 2019-07-01\n",
      "2019-05-15 2019-04-01 2019-07-01\n",
      "2019-05-16 2019-04-01 2019-07-01\n",
      "2019-05-17 2019-04-01 2019-07-01\n",
      "2019-05-18 2019-04-01 2019-07-01\n",
      "2019-05-19 2019-04-01 2019-07-01\n",
      "2019-05-20 2019-04-01 2019-07-01\n",
      "2019-05-21 2019-04-01 2019-07-01\n",
      "2019-05-22 2019-04-01 2019-07-01\n",
      "2019-05-23 2019-04-01 2019-07-01\n",
      "2019-05-24 2019-04-01 2019-07-01\n",
      "2019-05-25 2019-04-01 2019-07-01\n",
      "2019-05-26 2019-04-01 2019-07-01\n",
      "2019-05-27 2019-04-01 2019-07-01\n",
      "2019-05-28 2019-04-01 2019-07-01\n",
      "2019-05-29 2019-04-01 2019-07-01\n",
      "2019-05-30 2019-04-01 2019-07-01\n",
      "2019-05-31 2019-04-01 2019-07-01\n",
      "2019-06-01 2019-04-01 2019-07-01\n",
      "2019-06-02 2019-04-01 2019-07-01\n",
      "2019-06-03 2019-04-01 2019-07-01\n",
      "2019-06-04 2019-04-01 2019-07-01\n",
      "2019-06-05 2019-04-01 2019-07-01\n",
      "2019-06-06 2019-04-01 2019-07-01\n",
      "2019-06-07 2019-04-01 2019-07-01\n",
      "2019-06-08 2019-04-01 2019-07-01\n",
      "2019-06-09 2019-04-01 2019-07-01\n",
      "2019-06-10 2019-04-01 2019-07-01\n",
      "2019-06-11 2019-04-01 2019-07-01\n",
      "2019-06-12 2019-04-01 2019-07-01\n",
      "2019-06-13 2019-04-01 2019-07-01\n",
      "2019-06-14 2019-04-01 2019-07-01\n",
      "2019-06-15 2019-04-01 2019-07-01\n",
      "2019-06-16 2019-04-01 2019-07-01\n",
      "2019-06-17 2019-04-01 2019-07-01\n",
      "2019-06-18 2019-04-01 2019-07-01\n",
      "2019-06-19 2019-04-01 2019-07-01\n",
      "2019-06-20 2019-04-01 2019-07-01\n",
      "2019-06-21 2019-04-01 2019-07-01\n",
      "2019-06-22 2019-04-01 2019-07-01\n",
      "2019-06-23 2019-04-01 2019-07-01\n",
      "2019-06-24 2019-04-01 2019-07-01\n",
      "2019-06-25 2019-04-01 2019-07-01\n",
      "2019-06-26 2019-04-01 2019-07-01\n",
      "2019-06-27 2019-04-01 2019-07-01\n",
      "2019-06-28 2019-04-01 2019-07-01\n",
      "2019-06-29 2019-04-01 2019-07-01\n",
      "2019-06-30 2019-04-01 2019-07-01\n",
      "2019-07-01 2019-07-01 2019-10-01\n",
      "2019-07-02 2019-07-01 2019-10-01\n",
      "2019-07-03 2019-07-01 2019-10-01\n",
      "2019-07-04 2019-07-01 2019-10-01\n",
      "2019-07-05 2019-07-01 2019-10-01\n",
      "2019-07-06 2019-07-01 2019-10-01\n",
      "2019-07-07 2019-07-01 2019-10-01\n",
      "2019-07-08 2019-07-01 2019-10-01\n",
      "2019-07-09 2019-07-01 2019-10-01\n",
      "2019-07-10 2019-07-01 2019-10-01\n",
      "2019-07-11 2019-07-01 2019-10-01\n",
      "2019-07-12 2019-07-01 2019-10-01\n",
      "2019-07-13 2019-07-01 2019-10-01\n",
      "2019-07-14 2019-07-01 2019-10-01\n",
      "2019-07-15 2019-07-01 2019-10-01\n",
      "2019-07-16 2019-07-01 2019-10-01\n",
      "2019-07-17 2019-07-01 2019-10-01\n",
      "2019-07-18 2019-07-01 2019-10-01\n",
      "2019-07-19 2019-07-01 2019-10-01\n",
      "2019-07-20 2019-07-01 2019-10-01\n",
      "2019-07-21 2019-07-01 2019-10-01\n",
      "2019-07-22 2019-07-01 2019-10-01\n",
      "2019-07-23 2019-07-01 2019-10-01\n",
      "2019-07-24 2019-07-01 2019-10-01\n",
      "2019-07-25 2019-07-01 2019-10-01\n",
      "2019-07-26 2019-07-01 2019-10-01\n",
      "2019-07-27 2019-07-01 2019-10-01\n",
      "2019-07-28 2019-07-01 2019-10-01\n",
      "2019-07-29 2019-07-01 2019-10-01\n",
      "2019-07-30 2019-07-01 2019-10-01\n",
      "2019-07-31 2019-07-01 2019-10-01\n",
      "2019-08-01 2019-07-01 2019-10-01\n",
      "2019-08-02 2019-07-01 2019-10-01\n",
      "2019-08-03 2019-07-01 2019-10-01\n",
      "2019-08-04 2019-07-01 2019-10-01\n",
      "2019-08-05 2019-07-01 2019-10-01\n",
      "2019-08-06 2019-07-01 2019-10-01\n",
      "2019-08-07 2019-07-01 2019-10-01\n",
      "2019-08-08 2019-07-01 2019-10-01\n",
      "2019-08-09 2019-07-01 2019-10-01\n",
      "2019-08-10 2019-07-01 2019-10-01\n",
      "2019-08-11 2019-07-01 2019-10-01\n",
      "2019-08-12 2019-07-01 2019-10-01\n",
      "2019-08-13 2019-07-01 2019-10-01\n",
      "2019-08-14 2019-07-01 2019-10-01\n",
      "2019-08-15 2019-07-01 2019-10-01\n",
      "2019-08-16 2019-07-01 2019-10-01\n",
      "2019-08-17 2019-07-01 2019-10-01\n",
      "2019-08-18 2019-07-01 2019-10-01\n",
      "2019-08-19 2019-07-01 2019-10-01\n",
      "2019-08-20 2019-07-01 2019-10-01\n",
      "2019-08-21 2019-07-01 2019-10-01\n",
      "2019-08-22 2019-07-01 2019-10-01\n",
      "2019-08-23 2019-07-01 2019-10-01\n",
      "2019-08-24 2019-07-01 2019-10-01\n",
      "2019-08-25 2019-07-01 2019-10-01\n",
      "2019-08-26 2019-07-01 2019-10-01\n",
      "2019-08-27 2019-07-01 2019-10-01\n",
      "2019-08-28 2019-07-01 2019-10-01\n",
      "2019-08-29 2019-07-01 2019-10-01\n",
      "2019-08-30 2019-07-01 2019-10-01\n",
      "2019-08-31 2019-07-01 2019-10-01\n",
      "2019-09-01 2019-07-01 2019-10-01\n",
      "2019-09-02 2019-07-01 2019-10-01\n",
      "2019-09-03 2019-07-01 2019-10-01\n",
      "2019-09-04 2019-07-01 2019-10-01\n",
      "2019-09-05 2019-07-01 2019-10-01\n",
      "2019-09-06 2019-07-01 2019-10-01\n",
      "2019-09-07 2019-07-01 2019-10-01\n",
      "2019-09-08 2019-07-01 2019-10-01\n",
      "2019-09-09 2019-07-01 2019-10-01\n",
      "2019-09-10 2019-07-01 2019-10-01\n",
      "2019-09-11 2019-07-01 2019-10-01\n",
      "2019-09-12 2019-07-01 2019-10-01\n",
      "2019-09-13 2019-07-01 2019-10-01\n",
      "2019-09-14 2019-07-01 2019-10-01\n",
      "2019-09-15 2019-07-01 2019-10-01\n",
      "2019-09-16 2019-07-01 2019-10-01\n",
      "2019-09-17 2019-07-01 2019-10-01\n",
      "2019-09-18 2019-07-01 2019-10-01\n",
      "2019-09-19 2019-07-01 2019-10-01\n",
      "2019-09-20 2019-07-01 2019-10-01\n",
      "2019-09-21 2019-07-01 2019-10-01\n",
      "2019-09-22 2019-07-01 2019-10-01\n",
      "2019-09-23 2019-07-01 2019-10-01\n",
      "2019-09-24 2019-07-01 2019-10-01\n",
      "2019-09-25 2019-07-01 2019-10-01\n",
      "2019-09-26 2019-07-01 2019-10-01\n",
      "2019-09-27 2019-07-01 2019-10-01\n",
      "2019-09-28 2019-07-01 2019-10-01\n",
      "2019-09-29 2019-07-01 2019-10-01\n",
      "2019-09-30 2019-07-01 2019-10-01\n",
      "2019-10-01 2019-10-01 2020-01-01\n",
      "2019-10-02 2019-10-01 2020-01-01\n",
      "2019-10-03 2019-10-01 2020-01-01\n",
      "2019-10-04 2019-10-01 2020-01-01\n",
      "2019-10-05 2019-10-01 2020-01-01\n",
      "2019-10-06 2019-10-01 2020-01-01\n",
      "2019-10-07 2019-10-01 2020-01-01\n",
      "2019-10-08 2019-10-01 2020-01-01\n",
      "2019-10-09 2019-10-01 2020-01-01\n",
      "2019-10-10 2019-10-01 2020-01-01\n",
      "2019-10-11 2019-10-01 2020-01-01\n",
      "2019-10-12 2019-10-01 2020-01-01\n",
      "2019-10-13 2019-10-01 2020-01-01\n",
      "2019-10-14 2019-10-01 2020-01-01\n",
      "2019-10-15 2019-10-01 2020-01-01\n",
      "2019-10-16 2019-10-01 2020-01-01\n",
      "2019-10-17 2019-10-01 2020-01-01\n",
      "2019-10-18 2019-10-01 2020-01-01\n",
      "2019-10-19 2019-10-01 2020-01-01\n",
      "2019-10-20 2019-10-01 2020-01-01\n",
      "2019-10-21 2019-10-01 2020-01-01\n",
      "2019-10-22 2019-10-01 2020-01-01\n",
      "2019-10-23 2019-10-01 2020-01-01\n",
      "2019-10-24 2019-10-01 2020-01-01\n",
      "2019-10-25 2019-10-01 2020-01-01\n",
      "2019-10-26 2019-10-01 2020-01-01\n",
      "2019-10-27 2019-10-01 2020-01-01\n",
      "2019-10-28 2019-10-01 2020-01-01\n",
      "2019-10-29 2019-10-01 2020-01-01\n",
      "2019-10-30 2019-10-01 2020-01-01\n",
      "2019-10-31 2019-10-01 2020-01-01\n",
      "2019-11-01 2019-10-01 2020-01-01\n",
      "2019-11-02 2019-10-01 2020-01-01\n",
      "2019-11-03 2019-10-01 2020-01-01\n",
      "2019-11-04 2019-10-01 2020-01-01\n",
      "2019-11-05 2019-10-01 2020-01-01\n",
      "2019-11-06 2019-10-01 2020-01-01\n",
      "2019-11-07 2019-10-01 2020-01-01\n",
      "2019-11-08 2019-10-01 2020-01-01\n",
      "2019-11-09 2019-10-01 2020-01-01\n",
      "2019-11-10 2019-10-01 2020-01-01\n",
      "2019-11-11 2019-10-01 2020-01-01\n",
      "2019-11-12 2019-10-01 2020-01-01\n",
      "2019-11-13 2019-10-01 2020-01-01\n",
      "2019-11-14 2019-10-01 2020-01-01\n",
      "2019-11-15 2019-10-01 2020-01-01\n",
      "2019-11-16 2019-10-01 2020-01-01\n",
      "2019-11-17 2019-10-01 2020-01-01\n",
      "2019-11-18 2019-10-01 2020-01-01\n",
      "2019-11-19 2019-10-01 2020-01-01\n",
      "2019-11-20 2019-10-01 2020-01-01\n",
      "2019-11-21 2019-10-01 2020-01-01\n",
      "2019-11-22 2019-10-01 2020-01-01\n",
      "2019-11-23 2019-10-01 2020-01-01\n",
      "2019-11-24 2019-10-01 2020-01-01\n",
      "2019-11-25 2019-10-01 2020-01-01\n",
      "2019-11-26 2019-10-01 2020-01-01\n",
      "2019-11-27 2019-10-01 2020-01-01\n",
      "2019-11-28 2019-10-01 2020-01-01\n",
      "2019-11-29 2019-10-01 2020-01-01\n",
      "2019-11-30 2019-10-01 2020-01-01\n",
      "2019-12-01 2019-10-01 2020-01-01\n",
      "2019-12-02 2019-10-01 2020-01-01\n",
      "2019-12-03 2019-10-01 2020-01-01\n",
      "2019-12-04 2019-10-01 2020-01-01\n",
      "2019-12-05 2019-10-01 2020-01-01\n",
      "2019-12-06 2019-10-01 2020-01-01\n",
      "2019-12-07 2019-10-01 2020-01-01\n",
      "2019-12-08 2019-10-01 2020-01-01\n",
      "2019-12-09 2019-10-01 2020-01-01\n",
      "2019-12-10 2019-10-01 2020-01-01\n",
      "2019-12-11 2019-10-01 2020-01-01\n",
      "2019-12-12 2019-10-01 2020-01-01\n",
      "2019-12-13 2019-10-01 2020-01-01\n",
      "2019-12-14 2019-10-01 2020-01-01\n",
      "2019-12-15 2019-10-01 2020-01-01\n",
      "2019-12-16 2019-10-01 2020-01-01\n",
      "2019-12-17 2019-10-01 2020-01-01\n",
      "2019-12-18 2019-10-01 2020-01-01\n",
      "2019-12-19 2019-10-01 2020-01-01\n",
      "2019-12-20 2019-10-01 2020-01-01\n",
      "2019-12-21 2019-10-01 2020-01-01\n",
      "2019-12-22 2019-10-01 2020-01-01\n",
      "2019-12-23 2019-10-01 2020-01-01\n",
      "2019-12-24 2019-10-01 2020-01-01\n",
      "2019-12-25 2019-10-01 2020-01-01\n",
      "2019-12-26 2019-10-01 2020-01-01\n",
      "2019-12-27 2019-10-01 2020-01-01\n",
      "2019-12-28 2019-10-01 2020-01-01\n",
      "2019-12-29 2019-10-01 2020-01-01\n",
      "2019-12-30 2019-10-01 2020-01-01\n",
      "2019-12-31 2019-10-01 2020-01-01\n",
      "2020-01-01 2020-01-01 2020-04-01\n"
     ]
    }
   ],
   "source": [
    "for date in pd.date_range('1/1/2019', '1/1/2020'):\n",
    "    quarter_start = offset.rollback(date)\n",
    "    quarter_end = quarter_start + offset\n",
    "    print(date.date(), quarter_start.date(), quarter_end.date())"
   ]
  },
  {
   "cell_type": "code",
   "execution_count": 33,
   "metadata": {},
   "outputs": [
    {
     "data": {
      "text/plain": [
       "(datetime.datetime(2019, 4, 1, 0, 0), Timestamp('2019-07-01 00:00:00'))"
      ]
     },
     "execution_count": 33,
     "metadata": {},
     "output_type": "execute_result"
    }
   ],
   "source": [
    "quarter_start = pd.offsets.DateOffset().apply(parse('4/1/2019')\n",
    "quarter_start, quarter_start + offset"
   ]
  },
  {
   "cell_type": "code",
   "execution_count": null,
   "metadata": {},
   "outputs": [],
   "source": []
  },
  {
   "cell_type": "code",
   "execution_count": 83,
   "metadata": {},
   "outputs": [
    {
     "data": {
      "text/plain": [
       "{Interval(0, 6, closed='left'): 2,\n",
       " Interval(6, 98, closed='left'): 3,\n",
       " Interval(98, 99, closed='left'): 4}"
      ]
     },
     "execution_count": 83,
     "metadata": {},
     "output_type": "execute_result"
    }
   ],
   "source": [
    "class Segment:\n",
    "    def __init__(self, starting, ending):\n",
    "        self.starting = starting\n",
    "        self.ending = ending\n",
    "                \n",
    "        self.date_intervals = self.get_date_intervals(starting, ending)\n",
    "        self.time_intervals = self.get_time_intervals(self.date_intervals)\n",
    "        \n",
    "    \n",
    "    def get_date_intervals(self, starting, ending):\n",
    "        offset = pd.offsets.QuarterBegin(startingMonth=1)\n",
    "        first_left = starting\n",
    "        left = offset.rollback(starting)\n",
    "        right = min([left + offset, ending])\n",
    "        intervals = [pd.Interval(first_left, right, closed='left')]\n",
    "        \n",
    "        while right < ending:\n",
    "            left = right\n",
    "            right = min([left + offset, ending])\n",
    "            intervals.append(pd.Interval(left, right, closed='left'))\n",
    "            \n",
    "        return {interval: interval.left.quarter for interval in intervals}\n",
    "    \n",
    "    def get_time_intervals(self, date_intervals):\n",
    "        time_intervals = {}\n",
    "        for date_interval, quarter in date_intervals.items():\n",
    "            left_days = (date_interval.left - self.starting).days\n",
    "            right_days = (date_interval.right - self.starting).days\n",
    "            time_interval = pd.Interval(left_days, right_days, closed='left')\n",
    "            time_intervals[time_interval] = quarter\n",
    "        return time_intervals\n",
    "            \n",
    "            \n",
    "            \n",
    "        \n",
    "    \n",
    " \n",
    "            \n",
    "            \n",
    "now = pd.Timestamp('6/25/2019')\n",
    "then = pd.Timestamp('10/2/2019')\n",
    "seg = Segment(starting=now, ending=then)\n",
    "seg.time_intervals"
   ]
  },
  {
   "cell_type": "code",
   "execution_count": 76,
   "metadata": {},
   "outputs": [
    {
     "data": {
      "text/plain": [
       "2"
      ]
     },
     "execution_count": 76,
     "metadata": {},
     "output_type": "execute_result"
    }
   ],
   "source": [
    "seg.intervals[0].left.quarter"
   ]
  },
  {
   "cell_type": "code",
   "execution_count": 63,
   "metadata": {},
   "outputs": [
    {
     "data": {
      "text/plain": [
       "Timestamp('2019-07-31 00:00:00')"
      ]
     },
     "execution_count": 63,
     "metadata": {},
     "output_type": "execute_result"
    }
   ],
   "source": [
    "now = pd.Timestamp.now()\n",
    "now.floor('D')"
   ]
  },
  {
   "cell_type": "code",
   "execution_count": 58,
   "metadata": {},
   "outputs": [
    {
     "data": {
      "text/plain": [
       "Timestamp('2019-07-31 16:42:12.004062')"
      ]
     },
     "execution_count": 58,
     "metadata": {},
     "output_type": "execute_result"
    }
   ],
   "source": [
    "ff = pd.offsets.()\n",
    "ff.rollback(datetime.datetime.now())"
   ]
  },
  {
   "cell_type": "code",
   "execution_count": 66,
   "metadata": {},
   "outputs": [
    {
     "data": {
      "text/plain": [
       "Timestamp('2019-07-30 16:44:55.696668')"
      ]
     },
     "execution_count": 66,
     "metadata": {},
     "output_type": "execute_result"
    }
   ],
   "source": [
    "pd.offsets.CDay(weekmask='Mon Tue  Thu Fri').rollback(now)"
   ]
  },
  {
   "cell_type": "code",
   "execution_count": null,
   "metadata": {},
   "outputs": [],
   "source": []
  },
  {
   "cell_type": "code",
   "execution_count": 6,
   "metadata": {},
   "outputs": [],
   "source": [
    "class Segment:\n",
    "    def __init__(self, starting, ending):\n",
    "        self.starting = starting\n",
    "        self.ending = ending\n",
    "        \n",
    "    def nothing(self):\n",
    "        pd.offsets.QuarterBegin(startingMonth=1)\n",
    "        pd.interval_range(start=min_bin_time, end=max_bin_time, freq=offset, closed='left')\n",
    "        \n",
    "    def rob(self)\n",
    "    \n",
    "    def get_bounds(self, starting, ending):\n",
    "        if time.month in {1, 2, 3}:\n",
    "            left = pd.Timestamp(year=starting.year, month=1, day=1)\n",
    "            right = pd.Timestamp(year=staring.year, month=4, day=1)\n",
    "            return\n",
    "            \n",
    "            self.interval = pd.Interval(\n",
    "                left=pd.Timestamp(year=time.year, month=1, day=1),\n",
    "                right=pd.Timestamp(year=time.year, month=4, day=1),\n",
    "                closed='left'\n",
    "            )\n",
    "            \n",
    "        elif time.month in {4, 5, 6}:\n",
    "            self.interval = pd.Interval(\n",
    "                left=pd.Timestamp(year=time.year, month=4, day=1),\n",
    "                right=pd.Timestamp(year=time.year, month=7, day=1),\n",
    "                closed='left'\n",
    "            )\n",
    "        \n",
    "        elif time.month in {7, 8, 9}:\n",
    "            self.interval = pd.Interval(\n",
    "                left=pd.Timestamp(year=time.year, month=7, day=1),\n",
    "                right=pd.Timestamp(year=time.year, month=10, day=1),\n",
    "                closed='left'\n",
    "            )\n",
    "            \n",
    "        else:\n",
    "            self.interval = pd.Interval(\n",
    "                left=pd.Timestamp(year=time.year, month=10, day=1),\n",
    "                right=pd.Timestamp(year=time.year + 1, month=1, day=1),\n",
    "                closed='left'\n",
    "            )\n",
    "        \n",
    "    \n",
    "    def define_interval(self):\n",
    "        if time.month in {1, 2, 3}:\n",
    "            self.interval = pd.Interval(\n",
    "                left=pd.Timestamp(year=time.year, month=1, day=1),\n",
    "                right=pd.Timestamp(year=time.year, month=4, day=1),\n",
    "                closed='left'\n",
    "            )\n",
    "            \n",
    "        elif time.month in {4, 5, 6}:\n",
    "            self.interval = pd.Interval(\n",
    "                left=pd.Timestamp(year=time.year, month=4, day=1),\n",
    "                right=pd.Timestamp(year=time.year, month=7, day=1),\n",
    "                closed='left'\n",
    "            )\n",
    "        \n",
    "        elif time.month in {7, 8, 9}:\n",
    "            self.interval = pd.Interval(\n",
    "                left=pd.Timestamp(year=time.year, month=7, day=1),\n",
    "                right=pd.Timestamp(year=time.year, month=10, day=1),\n",
    "                closed='left'\n",
    "            )\n",
    "            \n",
    "        else:\n",
    "            self.interval = pd.Interval(\n",
    "                left=pd.Timestamp(year=time.year, month=10, day=1),\n",
    "                right=pd.Timestamp(year=time.year + 1, month=1, day=1),\n",
    "                closed='left'\n",
    "            )\n",
    "            \n",
    "            \n",
    "\n",
    "seg = Segment(datetime.datetime.now())\n",
    "seg.define_interval()"
   ]
  },
  {
   "cell_type": "code",
   "execution_count": 18,
   "metadata": {},
   "outputs": [],
   "source": [
    "def get_segments(starting, ending):\n",
    "    seg_start = starting\n",
    "    seg_end = pd.Timestamp.min\n",
    "    \n",
    "    while seg_end < ending:\n",
    "        \n",
    "    \n",
    "    \n",
    "    \n",
    "    ending = pd.Timestamp.min"
   ]
  },
  {
   "cell_type": "code",
   "execution_count": 23,
   "metadata": {},
   "outputs": [
    {
     "data": {
      "text/plain": [
       "IntervalIndex([[2019-01-01, 2019-04-01), [2019-04-01, 2019-07-01), [2019-07-01, 2019-10-01), [2019-10-01, 2020-01-01)],\n",
       "              closed='left',\n",
       "              dtype='interval[datetime64[ns]]')"
      ]
     },
     "execution_count": 23,
     "metadata": {},
     "output_type": "execute_result"
    }
   ],
   "source": [
    "offset = pd.offsets.QuarterBegin(startingMonth=1)\n",
    "pd.interval_range(start=parse('1/1/2019'), end=parse('1/2/2020'), freq=offset, closed='left')\n"
   ]
  },
  {
   "cell_type": "code",
   "execution_count": 20,
   "metadata": {},
   "outputs": [
    {
     "data": {
      "text/plain": [
       "Timestamp('2262-04-11 23:47:16.854775807')"
      ]
     },
     "execution_count": 20,
     "metadata": {},
     "output_type": "execute_result"
    }
   ],
   "source": [
    "pd.Timestamp.max"
   ]
  },
  {
   "cell_type": "code",
   "execution_count": 36,
   "metadata": {},
   "outputs": [],
   "source": [
    "inter = seg.interval"
   ]
  },
  {
   "cell_type": "code",
   "execution_count": 37,
   "metadata": {},
   "outputs": [],
   "source": [
    "dd = {inter: 'rob'}"
   ]
  },
  {
   "cell_type": "code",
   "execution_count": 40,
   "metadata": {},
   "outputs": [
    {
     "data": {
      "text/plain": [
       "'rob'"
      ]
     },
     "execution_count": 40,
     "metadata": {},
     "output_type": "execute_result"
    }
   ],
   "source": [
    "dd[inter]"
   ]
  },
  {
   "cell_type": "code",
   "execution_count": 38,
   "metadata": {},
   "outputs": [
    {
     "data": {
      "text/plain": [
       "Interval('2019-07-01', '2019-10-01', closed='left')"
      ]
     },
     "execution_count": 38,
     "metadata": {},
     "output_type": "execute_result"
    }
   ],
   "source": [
    "inter"
   ]
  },
  {
   "cell_type": "code",
   "execution_count": null,
   "metadata": {},
   "outputs": [],
   "source": []
  },
  {
   "cell_type": "code",
   "execution_count": null,
   "metadata": {},
   "outputs": [],
   "source": []
  },
  {
   "cell_type": "code",
   "execution_count": null,
   "metadata": {},
   "outputs": [],
   "source": []
  },
  {
   "cell_type": "code",
   "execution_count": null,
   "metadata": {},
   "outputs": [],
   "source": []
  },
  {
   "cell_type": "code",
   "execution_count": null,
   "metadata": {},
   "outputs": [],
   "source": []
  },
  {
   "cell_type": "code",
   "execution_count": null,
   "metadata": {},
   "outputs": [],
   "source": []
  },
  {
   "cell_type": "markdown",
   "metadata": {},
   "source": [
    "# Old Stuff\n"
   ]
  },
  {
   "cell_type": "code",
   "execution_count": 6,
   "metadata": {},
   "outputs": [
    {
     "data": {
      "text/html": [
       "<div>\n",
       "<style scoped>\n",
       "    .dataframe tbody tr th:only-of-type {\n",
       "        vertical-align: middle;\n",
       "    }\n",
       "\n",
       "    .dataframe tbody tr th {\n",
       "        vertical-align: top;\n",
       "    }\n",
       "\n",
       "    .dataframe thead th {\n",
       "        text-align: right;\n",
       "    }\n",
       "</style>\n",
       "<table border=\"1\" class=\"dataframe\">\n",
       "  <thead>\n",
       "    <tr style=\"text-align: right;\">\n",
       "      <th></th>\n",
       "      <th>date</th>\n",
       "      <th>duration</th>\n",
       "      <th>event_occured</th>\n",
       "    </tr>\n",
       "  </thead>\n",
       "  <tbody>\n",
       "    <tr>\n",
       "      <th>0</th>\n",
       "      <td>2019-04-18</td>\n",
       "      <td>0</td>\n",
       "      <td>1</td>\n",
       "    </tr>\n",
       "    <tr>\n",
       "      <th>1</th>\n",
       "      <td>2021-06-22</td>\n",
       "      <td>99</td>\n",
       "      <td>1</td>\n",
       "    </tr>\n",
       "  </tbody>\n",
       "</table>\n",
       "</div>"
      ],
      "text/plain": [
       "        date  duration  event_occured\n",
       "0 2019-04-18         0              1\n",
       "1 2021-06-22        99              1"
      ]
     },
     "execution_count": 6,
     "metadata": {},
     "output_type": "execute_result"
    }
   ],
   "source": [
    "df = pd.read_csv('./seasonal_1000a.csv', parse_dates=['date'])\n",
    "df.head(2)"
   ]
  },
  {
   "cell_type": "code",
   "execution_count": 7,
   "metadata": {},
   "outputs": [
    {
     "data": {
      "text/plain": [
       "[Interval('2019-01-03', '2019-01-07', closed='both'),\n",
       " Interval('2019-01-03', '2019-04-07', closed='both'),\n",
       " Interval('2019-01-04', '2019-01-10', closed='both')]"
      ]
     },
     "execution_count": 7,
     "metadata": {},
     "output_type": "execute_result"
    }
   ],
   "source": [
    "def get_life_intervals(duration, date):\n",
    "    \"\"\"\n",
    "    This takes durations and dates.  It returns pandas intervals\n",
    "    representing the interval over which each record lives\n",
    "    \"\"\"\n",
    "    df = pd.DataFrame({\n",
    "        'duration': list(duration),\n",
    "        'end_date': list(date)\n",
    "    })\n",
    "    df['start_date'] = df.end_date - df.duration * pd.Timedelta(days=1)\n",
    "    df['live_interval'] = [\n",
    "        pd.Interval(start, end, closed='both') \n",
    "        for (start, end) in zip(df.start_date, df.end_date)\n",
    "    ]\n",
    "    return sorted(df.live_interval)\n",
    "\n",
    "life_intervals = get_life_intervals(df.duration, df.date)\n",
    "life_intervals[:3]"
   ]
  },
  {
   "cell_type": "code",
   "execution_count": 8,
   "metadata": {},
   "outputs": [
    {
     "data": {
      "text/plain": [
       "[Interval('2019-01-01', '2019-04-01', closed='left'),\n",
       " Interval('2019-04-01', '2019-07-01', closed='left'),\n",
       " Interval('2019-07-01', '2019-10-01', closed='left')]"
      ]
     },
     "execution_count": 8,
     "metadata": {},
     "output_type": "execute_result"
    }
   ],
   "source": [
    "def get_bin_intervals(duration, date, offset):\n",
    "    \"\"\"\n",
    "    Takes durations dates, and a pandas time offset.\n",
    "    Returns intervals of offset covering the whole dataset\n",
    "    \"\"\"\n",
    "    df = pd.DataFrame({\n",
    "        'duration': list(duration),\n",
    "        'end_date': list(date)\n",
    "    })\n",
    "    df['start_date'] = df.end_date - df.duration * pd.Timedelta(days=1)\n",
    "    \n",
    "    min_date = df.start_date.min()\n",
    "    max_date = df.end_date.max()\n",
    "    \n",
    "    min_bin_time = offset.rollback(min_date)\n",
    "    max_bin_time = offset.rollforward(max_date)\n",
    "    bin_dates = list(pd.date_range(min_bin_time, max_bin_time))\n",
    "    ind = pd.interval_range(start=min_bin_time, end=max_bin_time, freq=offset, closed='left')\n",
    "    return sorted(ind)\n",
    "\n",
    "bin_intervals = get_bin_intervals(df.duration, df.date, pd.offsets.QuarterBegin(startingMonth=1))\n",
    "bin_intervals[: 3]"
   ]
  },
  {
   "cell_type": "code",
   "execution_count": 9,
   "metadata": {},
   "outputs": [
    {
     "name": "stdout",
     "output_type": "stream",
     "text": [
      "{'row_index': 986, 'col_index': 0, 'duration': 399.0, 'tau_bin_start': -60.0, 'tau_bin_end': 32.0, 'lower_lim': 0.0, 'upper_lim': 32.0}\n",
      "{'row_index': 986, 'col_index': 1, 'duration': 399.0, 'tau_bin_start': 32.0, 'tau_bin_end': 122.0, 'lower_lim': 32.0, 'upper_lim': 122.0}\n",
      "{'row_index': 986, 'col_index': 2, 'duration': 399.0, 'tau_bin_start': 122.0, 'tau_bin_end': 213.0, 'lower_lim': 122.0, 'upper_lim': 213.0}\n",
      "{'row_index': 986, 'col_index': 3, 'duration': 399.0, 'tau_bin_start': 213.0, 'tau_bin_end': 305.0, 'lower_lim': 213.0, 'upper_lim': 305.0}\n",
      "{'row_index': 986, 'col_index': 4, 'duration': 399.0, 'tau_bin_start': 305.0, 'tau_bin_end': 397.0, 'lower_lim': 305.0, 'upper_lim': 397.0}\n",
      "{'row_index': 986, 'col_index': 5, 'duration': 399.0, 'tau_bin_start': 397.0, 'tau_bin_end': 487.0, 'lower_lim': 397.0, 'upper_lim': 399.0}\n"
     ]
    },
    {
     "data": {
      "text/html": [
       "<div>\n",
       "<style scoped>\n",
       "    .dataframe tbody tr th:only-of-type {\n",
       "        vertical-align: middle;\n",
       "    }\n",
       "\n",
       "    .dataframe tbody tr th {\n",
       "        vertical-align: top;\n",
       "    }\n",
       "\n",
       "    .dataframe thead th {\n",
       "        text-align: right;\n",
       "    }\n",
       "</style>\n",
       "<table border=\"1\" class=\"dataframe\">\n",
       "  <thead>\n",
       "    <tr style=\"text-align: right;\">\n",
       "      <th></th>\n",
       "      <th>col_index</th>\n",
       "      <th>duration</th>\n",
       "      <th>lower_lim</th>\n",
       "      <th>row_index</th>\n",
       "      <th>tau_bin_end</th>\n",
       "      <th>tau_bin_start</th>\n",
       "      <th>upper_lim</th>\n",
       "    </tr>\n",
       "  </thead>\n",
       "  <tbody>\n",
       "    <tr>\n",
       "      <th>0</th>\n",
       "      <td>0</td>\n",
       "      <td>4.0</td>\n",
       "      <td>0.0</td>\n",
       "      <td>0</td>\n",
       "      <td>88.0</td>\n",
       "      <td>-2.0</td>\n",
       "      <td>4.0</td>\n",
       "    </tr>\n",
       "    <tr>\n",
       "      <th>1</th>\n",
       "      <td>0</td>\n",
       "      <td>94.0</td>\n",
       "      <td>0.0</td>\n",
       "      <td>1</td>\n",
       "      <td>88.0</td>\n",
       "      <td>-2.0</td>\n",
       "      <td>88.0</td>\n",
       "    </tr>\n",
       "    <tr>\n",
       "      <th>2</th>\n",
       "      <td>1</td>\n",
       "      <td>94.0</td>\n",
       "      <td>88.0</td>\n",
       "      <td>1</td>\n",
       "      <td>179.0</td>\n",
       "      <td>88.0</td>\n",
       "      <td>94.0</td>\n",
       "    </tr>\n",
       "    <tr>\n",
       "      <th>3</th>\n",
       "      <td>0</td>\n",
       "      <td>6.0</td>\n",
       "      <td>0.0</td>\n",
       "      <td>2</td>\n",
       "      <td>87.0</td>\n",
       "      <td>-3.0</td>\n",
       "      <td>6.0</td>\n",
       "    </tr>\n",
       "    <tr>\n",
       "      <th>4</th>\n",
       "      <td>0</td>\n",
       "      <td>71.0</td>\n",
       "      <td>0.0</td>\n",
       "      <td>3</td>\n",
       "      <td>83.0</td>\n",
       "      <td>-7.0</td>\n",
       "      <td>71.0</td>\n",
       "    </tr>\n",
       "  </tbody>\n",
       "</table>\n",
       "</div>"
      ],
      "text/plain": [
       "   col_index  duration  lower_lim  row_index  tau_bin_end  tau_bin_start  \\\n",
       "0          0       4.0        0.0          0         88.0           -2.0   \n",
       "1          0      94.0        0.0          1         88.0           -2.0   \n",
       "2          1      94.0       88.0          1        179.0           88.0   \n",
       "3          0       6.0        0.0          2         87.0           -3.0   \n",
       "4          0      71.0        0.0          3         83.0           -7.0   \n",
       "\n",
       "   upper_lim  \n",
       "0        4.0  \n",
       "1       88.0  \n",
       "2       94.0  \n",
       "3        6.0  \n",
       "4       71.0  "
      ]
     },
     "execution_count": 9,
     "metadata": {},
     "output_type": "execute_result"
    }
   ],
   "source": [
    "def compute_record(life_interval, bin_interval, row_index, col_index, time_step):\n",
    "    \"\"\"\n",
    "    Computes the values needed for feeding into cumulative hazard functions.\n",
    "    Assumes that life_interal and bin_interval are overlapping.\n",
    "    \"\"\"\n",
    "    life_start, life_end = life_interval.left, life_interval.right\n",
    "    bin_start, bin_end = bin_interval.left, bin_interval.right\n",
    "    \n",
    "    tau_bin_start = (bin_start - life_start) / time_step\n",
    "    tau_bin_end = (bin_end - life_start) / time_step\n",
    "    duration = life_interval.length / time_step\n",
    "    \n",
    "    \n",
    "    lower_lim = np.maximum(0, tau_bin_start)\n",
    "    upper_lim = np.minimum(duration, tau_bin_end)\n",
    "    \n",
    "    rec =  {\n",
    "        'row_index': row_index,\n",
    "        'col_index': col_index,\n",
    "        'duration': duration,\n",
    "        'tau_bin_start': tau_bin_start,\n",
    "        'tau_bin_end': tau_bin_end,\n",
    "        'lower_lim': lower_lim,\n",
    "        'upper_lim': upper_lim\n",
    "    }\n",
    "\n",
    "    if duration == 399:\n",
    "        print(rec)\n",
    "        \n",
    "    return rec\n",
    "    \n",
    "    \n",
    "\n",
    "\n",
    "rec_list = []\n",
    "\n",
    "for row_index, life_interval in enumerate(life_intervals):\n",
    "    col_index = 0\n",
    "    has_overlapped = False\n",
    "    for bin_interval in bin_intervals:\n",
    "        if life_interval.overlaps(bin_interval):\n",
    "            rec = compute_record(\n",
    "                life_interval, bin_interval, row_index, col_index, time_step=pd.Timedelta(days=1))\n",
    "            rec_list.append(rec)\n",
    "            col_index += 1\n",
    "            has_overlapped = True\n",
    "        else:\n",
    "            if has_overlapped:\n",
    "                break\n",
    "            \n",
    "            \n",
    "dfx = pd.DataFrame(rec_list)\n",
    "dfx.head()\n",
    "    "
   ]
  },
  {
   "cell_type": "code",
   "execution_count": 10,
   "metadata": {},
   "outputs": [],
   "source": [
    "\"\"\"\n",
    "This populates upper/lower time limits needed for integrating each cumulative contribution\n",
    "\"\"\"\n",
    "num_rows = len(df)\n",
    "num_cols = dfx.col_index.max() + 1\n",
    "lower_lims = anp.zeros(shape=(num_rows, num_cols))\n",
    "upper_lims = anp.zeros(shape=(num_rows, num_cols))\n",
    "\n",
    "for rec in dfx.itertuples():\n",
    "    lower_lims[rec.row_index, rec.col_index] = rec.lower_lim\n",
    "    upper_lims[rec.row_index, rec.col_index] = rec.upper_lim\n"
   ]
  },
  {
   "cell_type": "code",
   "execution_count": 11,
   "metadata": {},
   "outputs": [
    {
     "data": {
      "text/plain": [
       "array([[ 4.,  0.,  0., ...,  0.,  0.,  0.],\n",
       "       [88., 94.,  0., ...,  0.,  0.,  0.],\n",
       "       [ 6.,  0.,  0., ...,  0.,  0.,  0.],\n",
       "       ...,\n",
       "       [16., 17.,  0., ...,  0.,  0.,  0.],\n",
       "       [15., 30.,  0., ...,  0.,  0.,  0.],\n",
       "       [ 4., 58.,  0., ...,  0.,  0.,  0.]])"
      ]
     },
     "execution_count": 11,
     "metadata": {},
     "output_type": "execute_result"
    }
   ],
   "source": [
    "upper_lims"
   ]
  },
  {
   "cell_type": "code",
   "execution_count": 12,
   "metadata": {},
   "outputs": [],
   "source": [
    "def H(t2, t1, w):\n",
    "    \"\"\"\n",
    "    This is the cumulative hazard function (exponential for now)\n",
    "    \"\"\"\n",
    "    h_base = t2 - t1\n",
    "    w = anp.array(w).reshape(len(w), 1)\n",
    "    return h_base @ w\n",
    "\n",
    "\n",
    "h = egrad(H, argnum=0)\n",
    "\n",
    "# w = np.array([1, 1, 1, 1, 1, 1, 1, 1, 1], dtype=np.float64)\n",
    "# # H(upper_lims, lower_lims, w)\n",
    "# h = egrad(H, argnum=0)\n",
    "# h(upper_lims, lower_lims, w)\n"
   ]
  },
  {
   "cell_type": "code",
   "execution_count": 35,
   "metadata": {},
   "outputs": [],
   "source": [
    "def neg_log_likelihood(w, t2, t1, event_occured):    \n",
    "    log_like = -H(t2, t1, w) + anp.log(h(t2, t1, w)) * anp.reshape(event_occured.values, (len(event_occured), 1))\n",
    "    return -log_like\n",
    "\n",
    "    \n",
    "d_neg_log_likelihood = egrad(neg_log_likelihood, argnum=0)\n",
    "    "
   ]
  },
  {
   "cell_type": "code",
   "execution_count": 44,
   "metadata": {},
   "outputs": [
    {
     "data": {
      "text/plain": [
       "array([-9.48681733e+08, -9.48597736e+08, -9.48798643e+08, -9.48911836e+08,\n",
       "       -9.48960796e+08, -9.48981919e+08, -9.48991954e+08, -9.48996472e+08,\n",
       "       -9.48999271e+08])"
      ]
     },
     "execution_count": 44,
     "metadata": {},
     "output_type": "execute_result"
    }
   ],
   "source": [
    "w = 1e-6 * np.array([1, 1, 1, 1, 1, 1, 1, 1, 1], dtype=np.float64)\n",
    "d_neg_log_likelihood(w, upper_lims, lower_lims, df.event_occured)"
   ]
  },
  {
   "cell_type": "code",
   "execution_count": 45,
   "metadata": {},
   "outputs": [],
   "source": [
    "results = minimize(\n",
    "    value_and_grad(neg_log_likelihood),  # pylint: disable=no-value-for-parameter\n",
    "    w,\n",
    "    jac=True,\n",
    "    method=\"L-BFGS-B\",\n",
    "    args=(upper_lims, lower_lims, df.event_occured),\n",
    "#     bounds=self._bounds,\n",
    "#     options={\"disp\": True},\n",
    ")\n",
    "\n"
   ]
  },
  {
   "cell_type": "code",
   "execution_count": 46,
   "metadata": {},
   "outputs": [
    {
     "data": {
      "text/plain": [
       "      fun: array([[13.81551456, 13.81550443, 13.81550443, ..., 13.81550443,\n",
       "        13.81550443, 13.81550443],\n",
       "       [13.81559443, 13.81559443, 13.81559443, ..., 13.81559443,\n",
       "        13.81559443, 13.81559443],\n",
       "       [13.81550643, 13.81550643, 13.81550643, ..., 13.81550643,\n",
       "        13.81550643, 13.81550643],\n",
       "       ...,\n",
       "       [13.81551743, 13.81551743, 13.81551743, ..., 13.81551743,\n",
       "        13.81551743, 13.81551743],\n",
       "       [13.81553043, 13.81553043, 13.81553043, ..., 13.81553043,\n",
       "        13.81553043, 13.81553043],\n",
       "       [13.81555843, 13.81555843, 13.81555843, ..., 13.81555843,\n",
       "        13.81555843, 13.81555843]])\n",
       " hess_inv: <9x9 LbfgsInvHessProduct with dtype=float64>\n",
       "      jac: array([-9.48681733e+08, -9.48597736e+08, -9.48798643e+08, -9.48911836e+08,\n",
       "       -9.48960796e+08, -9.48981919e+08, -9.48991954e+08, -9.48996472e+08,\n",
       "       -9.48999271e+08])\n",
       "  message: b'ABNORMAL_TERMINATION_IN_LNSRCH'\n",
       "     nfev: 21\n",
       "      nit: 0\n",
       "   status: 2\n",
       "  success: False\n",
       "        x: array([1.e-06, 1.e-06, 1.e-06, 1.e-06, 1.e-06, 1.e-06, 1.e-06, 1.e-06,\n",
       "       1.e-06])"
      ]
     },
     "execution_count": 46,
     "metadata": {},
     "output_type": "execute_result"
    }
   ],
   "source": [
    "results"
   ]
  },
  {
   "cell_type": "code",
   "execution_count": null,
   "metadata": {},
   "outputs": [],
   "source": []
  },
  {
   "cell_type": "code",
   "execution_count": null,
   "metadata": {},
   "outputs": [],
   "source": []
  }
 ],
 "metadata": {
  "kernelspec": {
   "display_name": "Python 3",
   "language": "python",
   "name": "python3"
  },
  "language_info": {
   "codemirror_mode": {
    "name": "ipython",
    "version": 3
   },
   "file_extension": ".py",
   "mimetype": "text/x-python",
   "name": "python",
   "nbconvert_exporter": "python",
   "pygments_lexer": "ipython3",
   "version": "3.6.8"
  }
 },
 "nbformat": 4,
 "nbformat_minor": 2
}
