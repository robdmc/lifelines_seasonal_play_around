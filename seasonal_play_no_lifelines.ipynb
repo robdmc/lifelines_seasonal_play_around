{
 "cells": [
  {
   "cell_type": "code",
   "execution_count": 211,
   "metadata": {},
   "outputs": [],
   "source": [
    "from lifelines.fitters import ParametericUnivariateFitter\n",
    "from datetime import timedelta\n",
    "import pandas as pd\n",
    "import numpy\n",
    "from autograd import numpy as np\n",
    "from autograd import grad, value_and_grad\n",
    "from scipy.stats import expon, bernoulli\n",
    "import fleming\n",
    "import datetime\n",
    "from scipy.optimize import minimize, fmin"
   ]
  },
  {
   "cell_type": "code",
   "execution_count": 216,
   "metadata": {},
   "outputs": [],
   "source": [
    "def get_df(n_samples=200, seed=None):\n",
    "\n",
    "\n",
    "    # Exponential times for month\n",
    "    tau_for_quarter = {\n",
    "        1: 200,\n",
    "        2: 200,\n",
    "        3: 200,\n",
    "        4: 200,\n",
    "    }\n",
    "\n",
    "    # Create a dataframe of dates along\n",
    "    df = pd.DataFrame({'dates': pd.date_range('1/1/2019', '12/31/2031', freq='D')})\n",
    "    df['quarter'] = df.dates.dt.quarter\n",
    "\n",
    "\n",
    "    # Randomly generate exponential times for each date\n",
    "    if seed is not None:\n",
    "        np.random.seed(seed)\n",
    "    times = []\n",
    "    observed = []\n",
    "    for quarter in df.quarter:\n",
    "        tau = tau_for_quarter[quarter]\n",
    "        time = expon(scale=tau).rvs()\n",
    "        times.append(np.round(time))\n",
    "        observed.append(bernoulli(.7).rvs())\n",
    "\n",
    "    df['times'] = pd.Series(times, dtype=float)\n",
    "    df['observed'] = observed\n",
    "    # df = df[df.times > 0]\n",
    "\n",
    "    df = df.sample(n_samples, replace=True).reset_index(drop=True).drop('quarter', axis=1)\n",
    "    return df\n",
    "\n",
    "\n",
    "\n"
   ]
  },
  {
   "cell_type": "code",
   "execution_count": 219,
   "metadata": {
    "scrolled": false
   },
   "outputs": [
    {
     "name": "stdout",
     "output_type": "stream",
     "text": [
      "Optimization terminated successfully.\n",
      "         Current function value: 377.957522\n",
      "         Iterations: 203\n",
      "         Function evaluations: 346\n"
     ]
    },
    {
     "data": {
      "text/plain": [
       "array([277.23076408, 194.3684131 , 250.21426465, 324.74995101])"
      ]
     },
     "execution_count": 219,
     "metadata": {},
     "output_type": "execute_result"
    }
   ],
   "source": [
    "class Seasonal:\n",
    "    _fitted_parameter_names = ['q1', 'q2', 'q3', 'q4']\n",
    "    \n",
    "    def __init__(self, durations, dates, observed):\n",
    "        self.durations = durations\n",
    "        self.dates = dates\n",
    "        self.observed = observed\n",
    "        self._days_in_quarter = None\n",
    "    \n",
    "    def _get_days_in_quarter(self, durations, dates):\n",
    "        dates = pd.Series(dates)\n",
    "        days_in_quarter = []\n",
    "        for duration, end_date in zip(durations, dates):\n",
    "            start_date = end_date - datetime.timedelta(days=duration)\n",
    "            df = pd.DataFrame({'date': pd.date_range(start_date, end_date)})\n",
    "            df['quarter'] = df.date.dt.quarter\n",
    "            days_in_quarter.append(df.quarter.value_counts().to_dict())\n",
    "        return days_in_quarter\n",
    "\n",
    "    def _hazard(self, params, day):\n",
    "        day = pd.Timestamp(day)\n",
    "        return 1. / params[day.quarter - 1]\n",
    "\n",
    "    def _cumulative_hazard(self, params):\n",
    "        cum_hazards = []\n",
    "        if self._days_in_quarter is None:\n",
    "            self._days_in_quarter = self._get_days_in_quarter(self.durations, self.dates)\n",
    "        \n",
    "        for diq in self._days_in_quarter:\n",
    "            cum_haz = 0.\n",
    "            for quarter, days_in_quarter in diq.items():\n",
    "                cum_haz += days_in_quarter / params[quarter - 1]\n",
    "            cum_hazards.append(cum_haz)\n",
    "                \n",
    "        return np.array(cum_hazards, dtype=np.float64)\n",
    "    \n",
    "    def _log_likelihood(self, params):\n",
    "        cum_hazards = self._cumulative_hazard(params)\n",
    "        hazards = np.array([self._hazard(params, day) for day in self.dates])\n",
    "        \n",
    "        d_log_likelihood = self.observed * np.log(hazards) - cum_hazards\n",
    "        out =  np.sum(d_log_likelihood)\n",
    "        return - out\n",
    "        \n",
    "    \n",
    "\n",
    "params = np.array([1., 1., 1., 1.])\n",
    "params = np.array([50.1, 50.1, 20.2, 20.2])\n",
    "\n",
    "\n",
    "df = get_df(n_samples=80)\n",
    "\n",
    "seasonal = Seasonal(df.times, df.dates, df.observed)\n",
    "seasonal._log_likelihood(params)\n",
    "\n",
    "fmin(func=seasonal._log_likelihood, x0=params, maxiter=1000)\n",
    "    \n",
    "\n",
    "\n",
    "# grad_obj = value_and_grad(seasonal._log_likelihood)\n",
    "  \n",
    "# res = minimize(\n",
    "#     grad_obj,\n",
    "#     x0=params,\n",
    "#     jac=True,\n",
    "#     method='L-BFGS-B',\n",
    "# )    \n"
   ]
  },
  {
   "cell_type": "code",
   "execution_count": 209,
   "metadata": {},
   "outputs": [
    {
     "data": {
      "text/plain": [
       "array([290.99432539, 288.19451159, 314.18515731, 281.16665419])"
      ]
     },
     "execution_count": 209,
     "metadata": {},
     "output_type": "execute_result"
    }
   ],
   "source": [
    "_"
   ]
  },
  {
   "cell_type": "code",
   "execution_count": null,
   "metadata": {},
   "outputs": [],
   "source": []
  },
  {
   "cell_type": "code",
   "execution_count": null,
   "metadata": {},
   "outputs": [],
   "source": []
  },
  {
   "cell_type": "code",
   "execution_count": null,
   "metadata": {},
   "outputs": [],
   "source": []
  },
  {
   "cell_type": "code",
   "execution_count": null,
   "metadata": {},
   "outputs": [],
   "source": []
  },
  {
   "cell_type": "code",
   "execution_count": null,
   "metadata": {},
   "outputs": [],
   "source": []
  },
  {
   "cell_type": "code",
   "execution_count": null,
   "metadata": {},
   "outputs": [],
   "source": []
  },
  {
   "cell_type": "code",
   "execution_count": null,
   "metadata": {},
   "outputs": [],
   "source": []
  },
  {
   "cell_type": "code",
   "execution_count": null,
   "metadata": {},
   "outputs": [],
   "source": []
  },
  {
   "cell_type": "code",
   "execution_count": null,
   "metadata": {},
   "outputs": [],
   "source": []
  },
  {
   "cell_type": "code",
   "execution_count": 150,
   "metadata": {},
   "outputs": [],
   "source": [
    "def to_ordinal(time):\n",
    "    has_iter = hasattr(time, '__iter__')\n",
    "    if has_iter:\n",
    "        time = pd.Series(time)\n",
    "    else:\n",
    "        time = pd.Series([time])\n",
    "        \n",
    "    out = pd.Series([t.toordinal() for t in time], dtype=np.float64)\n",
    "    \n",
    "    if has_iter:\n",
    "        return out.values\n",
    "    else:\n",
    "        return out[0]\n",
    "\n",
    "def from_ordinal(timestamp):\n",
    "    has_iter = hasattr(timestamp, '__iter__')\n",
    "    if has_iter:\n",
    "        timestamp = pd.Series(timestamp)\n",
    "    else:\n",
    "        timestamp = pd.Series([timestamp])\n",
    "        \n",
    "    out = pd.Series([pd.Timestamp.fromordinal(int(t)) for t in timestamp])\n",
    "    \n",
    "    if has_iter:\n",
    "        return out.values\n",
    "    else:\n",
    "        return out[0]\n",
    "        "
   ]
  },
  {
   "cell_type": "code",
   "execution_count": null,
   "metadata": {},
   "outputs": [],
   "source": []
  },
  {
   "cell_type": "code",
   "execution_count": null,
   "metadata": {},
   "outputs": [],
   "source": []
  }
 ],
 "metadata": {
  "kernelspec": {
   "display_name": "Python 3",
   "language": "python",
   "name": "python3"
  },
  "language_info": {
   "codemirror_mode": {
    "name": "ipython",
    "version": 3
   },
   "file_extension": ".py",
   "mimetype": "text/x-python",
   "name": "python",
   "nbconvert_exporter": "python",
   "pygments_lexer": "ipython3",
   "version": "3.6.8"
  }
 },
 "nbformat": 4,
 "nbformat_minor": 2
}
